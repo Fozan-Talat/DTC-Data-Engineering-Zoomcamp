{
 "cells": [
  {
   "cell_type": "code",
   "execution_count": 11,
   "id": "ae97af65",
   "metadata": {},
   "outputs": [],
   "source": [
    "import findspark\n",
    "findspark.init()\n",
    "import pyspark\n",
    "from pyspark.sql import SparkSession\n",
    "import pandas as pd\n",
    "from pyspark.sql import functions as F\n",
    "from pyspark.sql import types"
   ]
  },
  {
   "cell_type": "code",
   "execution_count": 2,
   "id": "0e7f83a9",
   "metadata": {},
   "outputs": [],
   "source": [
    "spark=SparkSession.builder \\\n",
    "      .master(\"local[*]\") \\\n",
    "      .appName('test') \\\n",
    "      .getOrCreate()"
   ]
  },
  {
   "cell_type": "markdown",
   "id": "c25d6ef4",
   "metadata": {},
   "source": [
    "## Question 1"
   ]
  },
  {
   "cell_type": "code",
   "execution_count": 46,
   "id": "02ae632b",
   "metadata": {},
   "outputs": [
    {
     "data": {
      "text/plain": [
       "'3.3.2'"
      ]
     },
     "execution_count": 46,
     "metadata": {},
     "output_type": "execute_result"
    }
   ],
   "source": [
    "spark.version"
   ]
  },
  {
   "cell_type": "code",
   "execution_count": 5,
   "id": "1ed42e0f",
   "metadata": {},
   "outputs": [],
   "source": [
    "df = spark.read \\\n",
    "    .option(\"header\",\"true\") \\\n",
    "    .csv(\"fhvhv_tripdata_2021-06.csv\")"
   ]
  },
  {
   "cell_type": "code",
   "execution_count": 6,
   "id": "9f8c4070",
   "metadata": {},
   "outputs": [
    {
     "name": "stdout",
     "output_type": "stream",
     "text": [
      "+--------------------+-------------------+-------------------+------------+------------+-------+----------------------+\n",
      "|dispatching_base_num|    pickup_datetime|   dropoff_datetime|PULocationID|DOLocationID|SR_Flag|Affiliated_base_number|\n",
      "+--------------------+-------------------+-------------------+------------+------------+-------+----------------------+\n",
      "|              B02764|2021-06-01 00:02:41|2021-06-01 00:07:46|         174|          18|      N|                B02764|\n",
      "|              B02764|2021-06-01 00:16:16|2021-06-01 00:21:14|          32|         254|      N|                B02764|\n",
      "|              B02764|2021-06-01 00:27:01|2021-06-01 00:42:11|         240|         127|      N|                B02764|\n",
      "|              B02764|2021-06-01 00:46:08|2021-06-01 00:53:45|         127|         235|      N|                B02764|\n",
      "|              B02510|2021-06-01 00:45:42|2021-06-01 01:03:33|         144|         146|      N|                  null|\n",
      "|              B02510|2021-06-01 00:18:15|2021-06-01 00:25:47|          49|          17|      N|                  null|\n",
      "|              B02510|2021-06-01 00:33:06|2021-06-01 00:42:46|          49|         225|      N|                  null|\n",
      "|              B02510|2021-06-01 00:46:27|2021-06-01 00:56:50|         225|         177|      N|                  null|\n",
      "|              B02764|2021-06-01 00:48:06|2021-06-01 01:04:10|         209|          45|      N|                B02764|\n",
      "|              B02875|2021-06-01 00:18:54|2021-06-01 00:26:14|          80|         256|      N|                B02875|\n",
      "|              B02875|2021-06-01 00:31:02|2021-06-01 00:36:39|         217|          17|      N|                B02875|\n",
      "|              B02875|2021-06-01 00:41:53|2021-06-01 01:07:32|          17|         265|      N|                B02875|\n",
      "|              B02875|2021-06-01 00:29:52|2021-06-01 00:54:41|         210|          76|      N|                B02875|\n",
      "|              B02510|2021-06-01 00:15:57|2021-06-01 00:39:36|         226|         213|      N|                  null|\n",
      "|              B02510|2021-06-01 00:11:59|2021-06-01 00:23:32|         191|           9|      N|                  null|\n",
      "|              B02510|2021-06-01 00:30:35|2021-06-01 00:45:35|          16|         250|      N|                  null|\n",
      "|              B02510|2021-06-01 00:49:01|2021-06-01 01:03:50|         182|         259|      N|                  null|\n",
      "|              B02510|2021-06-01 00:07:36|2021-06-01 00:21:13|         188|          72|      N|                  null|\n",
      "|              B02510|2021-06-01 00:25:48|2021-06-01 00:40:43|          39|          72|      N|                  null|\n",
      "|              B02510|2021-06-01 00:46:11|2021-06-01 00:53:39|          72|          35|      N|                  null|\n",
      "+--------------------+-------------------+-------------------+------------+------------+-------+----------------------+\n",
      "only showing top 20 rows\n",
      "\n"
     ]
    }
   ],
   "source": [
    "df.show()"
   ]
  },
  {
   "cell_type": "code",
   "execution_count": 10,
   "id": "96a40415",
   "metadata": {},
   "outputs": [
    {
     "data": {
      "text/plain": [
       "StructType([StructField('dispatching_base_num', StringType(), True), StructField('pickup_datetime', StringType(), True), StructField('dropoff_datetime', StringType(), True), StructField('PULocationID', StringType(), True), StructField('DOLocationID', StringType(), True), StructField('SR_Flag', StringType(), True), StructField('Affiliated_base_number', StringType(), True)])"
      ]
     },
     "execution_count": 10,
     "metadata": {},
     "output_type": "execute_result"
    }
   ],
   "source": [
    "df.schema"
   ]
  },
  {
   "cell_type": "code",
   "execution_count": 90,
   "id": "b652e4fa",
   "metadata": {},
   "outputs": [],
   "source": [
    "schema = types.StructType([\n",
    "    types.StructField('dispatching_base_num', types.StringType(), True),\n",
    "    types.StructField('pickup_datetime', types.TimestampType(), True),\n",
    "    types.StructField('dropoff_datetime', types.TimestampType(), True),\n",
    "    types.StructField('PULocationID', types.IntegerType(), True),\n",
    "    types.StructField('DOLocationID', types.IntegerType(), True),\n",
    "    types.StructField('SR_Flag', types.StringType(), True),\n",
    "    types.StructField('Affiliated_base_number', types.StringType(), True)\n",
    "])"
   ]
  },
  {
   "cell_type": "markdown",
   "id": "f0c14e5d",
   "metadata": {},
   "source": [
    "## Question 2"
   ]
  },
  {
   "cell_type": "code",
   "execution_count": 91,
   "id": "f26b548d",
   "metadata": {},
   "outputs": [],
   "source": [
    "df=spark.read \\\n",
    "  .option(\"header\",\"true\") \\\n",
    "  .option(\"timestampFormat\",\"yyyy-MM-dd HH:mm:ss.S\") \\\n",
    "  .schema(schema) \\\n",
    "  .csv('fhvhv_tripdata_2021-06.csv')"
   ]
  },
  {
   "cell_type": "code",
   "execution_count": 92,
   "id": "cd37d07c",
   "metadata": {},
   "outputs": [],
   "source": [
    "df = df.repartition(12)"
   ]
  },
  {
   "cell_type": "code",
   "execution_count": 93,
   "id": "35a9c3f6",
   "metadata": {},
   "outputs": [],
   "source": [
    "spark.conf.set(\"spark.sql.parquet.outputTimestampType\", \"TIMESTAMP_MICROS\")\n",
    "df.write.parquet('fhvhv/2021/06/') "
   ]
  },
  {
   "cell_type": "code",
   "execution_count": 94,
   "id": "c926f8eb",
   "metadata": {},
   "outputs": [
    {
     "name": "stdout",
     "output_type": "stream",
     "text": [
      "total 245M\n",
      "-rw-r--r-- 1 TENX-ISB-FT0456+Administrator 197121   0 Mar  3 18:23 _SUCCESS\n",
      "-rw-r--r-- 1 TENX-ISB-FT0456+Administrator 197121 21M Mar  3 18:23 part-00000-b2911a93-d9d2-4547-9efc-b9ea53c03517-c000.snappy.parquet\n",
      "-rw-r--r-- 1 TENX-ISB-FT0456+Administrator 197121 21M Mar  3 18:23 part-00001-b2911a93-d9d2-4547-9efc-b9ea53c03517-c000.snappy.parquet\n",
      "-rw-r--r-- 1 TENX-ISB-FT0456+Administrator 197121 21M Mar  3 18:23 part-00002-b2911a93-d9d2-4547-9efc-b9ea53c03517-c000.snappy.parquet\n",
      "-rw-r--r-- 1 TENX-ISB-FT0456+Administrator 197121 21M Mar  3 18:23 part-00003-b2911a93-d9d2-4547-9efc-b9ea53c03517-c000.snappy.parquet\n",
      "-rw-r--r-- 1 TENX-ISB-FT0456+Administrator 197121 21M Mar  3 18:23 part-00004-b2911a93-d9d2-4547-9efc-b9ea53c03517-c000.snappy.parquet\n",
      "-rw-r--r-- 1 TENX-ISB-FT0456+Administrator 197121 21M Mar  3 18:23 part-00005-b2911a93-d9d2-4547-9efc-b9ea53c03517-c000.snappy.parquet\n",
      "-rw-r--r-- 1 TENX-ISB-FT0456+Administrator 197121 21M Mar  3 18:23 part-00006-b2911a93-d9d2-4547-9efc-b9ea53c03517-c000.snappy.parquet\n",
      "-rw-r--r-- 1 TENX-ISB-FT0456+Administrator 197121 21M Mar  3 18:23 part-00007-b2911a93-d9d2-4547-9efc-b9ea53c03517-c000.snappy.parquet\n",
      "-rw-r--r-- 1 TENX-ISB-FT0456+Administrator 197121 21M Mar  3 18:23 part-00008-b2911a93-d9d2-4547-9efc-b9ea53c03517-c000.snappy.parquet\n",
      "-rw-r--r-- 1 TENX-ISB-FT0456+Administrator 197121 21M Mar  3 18:23 part-00009-b2911a93-d9d2-4547-9efc-b9ea53c03517-c000.snappy.parquet\n",
      "-rw-r--r-- 1 TENX-ISB-FT0456+Administrator 197121 21M Mar  3 18:23 part-00010-b2911a93-d9d2-4547-9efc-b9ea53c03517-c000.snappy.parquet\n",
      "-rw-r--r-- 1 TENX-ISB-FT0456+Administrator 197121 21M Mar  3 18:23 part-00011-b2911a93-d9d2-4547-9efc-b9ea53c03517-c000.snappy.parquet\n"
     ]
    }
   ],
   "source": [
    "!ls -lh ./fhvhv/2021/06/"
   ]
  },
  {
   "cell_type": "code",
   "execution_count": 95,
   "id": "7e2abf1d",
   "metadata": {},
   "outputs": [],
   "source": [
    "df=spark.read.parquet('fhvhv/2021/06/*')"
   ]
  },
  {
   "cell_type": "code",
   "execution_count": 96,
   "id": "e0aaa71a",
   "metadata": {},
   "outputs": [
    {
     "name": "stdout",
     "output_type": "stream",
     "text": [
      "+--------------------+-------------------+-------------------+------------+------------+-------+----------------------+\n",
      "|dispatching_base_num|    pickup_datetime|   dropoff_datetime|PULocationID|DOLocationID|SR_Flag|Affiliated_base_number|\n",
      "+--------------------+-------------------+-------------------+------------+------------+-------+----------------------+\n",
      "|              B02510|2021-06-04 00:36:29|2021-06-04 00:49:07|         148|          25|      N|                  null|\n",
      "|              B02884|2021-06-02 14:15:33|2021-06-02 14:25:34|         212|         250|      N|                B02884|\n",
      "|              B02879|2021-06-02 08:31:42|2021-06-02 08:37:33|         125|         114|      N|                B02879|\n",
      "|              B02682|2021-06-01 13:04:35|2021-06-01 13:10:29|          82|          82|      N|                B02682|\n",
      "|              B02875|2021-06-04 11:46:23|2021-06-04 11:52:27|          41|          41|      N|                B02875|\n",
      "|              B02765|2021-06-02 19:34:54|2021-06-02 19:44:59|         261|          45|      N|                B02765|\n",
      "|              B02764|2021-06-01 19:56:55|2021-06-01 20:19:55|          37|           7|      N|                B02764|\n",
      "|              B02510|2021-06-04 12:53:26|2021-06-04 13:01:45|         172|         214|      N|                  null|\n",
      "|              B02765|2021-06-03 18:58:59|2021-06-03 19:04:26|         249|          90|      N|                B02765|\n",
      "|              B02764|2021-06-02 16:25:23|2021-06-02 16:41:25|          61|         225|      N|                B02764|\n",
      "|              B02510|2021-06-04 18:40:16|2021-06-04 19:12:55|         256|         158|      N|                  null|\n",
      "|              B02510|2021-06-04 17:35:41|2021-06-04 18:30:59|         177|         232|      N|                  null|\n",
      "|              B02872|2021-06-01 10:31:06|2021-06-01 10:51:15|          91|         189|      N|                B02872|\n",
      "|              B02510|2021-06-01 09:05:10|2021-06-01 09:31:16|         254|          69|      N|                  null|\n",
      "|              B02617|2021-06-04 10:26:00|2021-06-04 10:37:52|         211|         234|      N|                B02617|\n",
      "|              B02512|2021-06-04 20:53:19|2021-06-04 21:05:05|         144|         249|      N|                B02512|\n",
      "|              B02869|2021-06-03 16:53:37|2021-06-03 18:40:46|         158|         265|      N|                B02869|\n",
      "|              B02510|2021-06-04 13:00:43|2021-06-04 13:07:24|         165|         178|      N|                  null|\n",
      "|              B02872|2021-06-04 08:07:12|2021-06-04 08:50:38|         198|          55|      N|                B02872|\n",
      "|              B02764|2021-06-04 11:59:00|2021-06-04 12:14:13|         230|          43|      N|                B02764|\n",
      "+--------------------+-------------------+-------------------+------------+------------+-------+----------------------+\n",
      "only showing top 20 rows\n",
      "\n"
     ]
    }
   ],
   "source": [
    "df.show()"
   ]
  },
  {
   "cell_type": "code",
   "execution_count": 97,
   "id": "36747243",
   "metadata": {},
   "outputs": [],
   "source": [
    "df_3=df \\\n",
    "    .withColumn('pickup_datetime', F.to_date(df.pickup_datetime)) \\\n",
    "    .withColumn('dropoff_datetime', F.to_date(df.dropoff_datetime)) \\\n",
    "    .withColumnRenamed('pickup_datetime','pickup_date') \\\n",
    "    .withColumnRenamed('dropoff_datetime','dropoff_date')"
   ]
  },
  {
   "cell_type": "code",
   "execution_count": 98,
   "id": "29f411dd",
   "metadata": {},
   "outputs": [
    {
     "name": "stdout",
     "output_type": "stream",
     "text": [
      "+--------------------+-----------+------------+------------+------------+-------+----------------------+\n",
      "|dispatching_base_num|pickup_date|dropoff_date|PULocationID|DOLocationID|SR_Flag|Affiliated_base_number|\n",
      "+--------------------+-----------+------------+------------+------------+-------+----------------------+\n",
      "|              B02510| 2021-06-04|  2021-06-04|         148|          25|      N|                  null|\n",
      "|              B02884| 2021-06-02|  2021-06-02|         212|         250|      N|                B02884|\n",
      "|              B02879| 2021-06-02|  2021-06-02|         125|         114|      N|                B02879|\n",
      "|              B02682| 2021-06-01|  2021-06-01|          82|          82|      N|                B02682|\n",
      "|              B02875| 2021-06-04|  2021-06-04|          41|          41|      N|                B02875|\n",
      "|              B02765| 2021-06-02|  2021-06-02|         261|          45|      N|                B02765|\n",
      "|              B02764| 2021-06-01|  2021-06-01|          37|           7|      N|                B02764|\n",
      "|              B02510| 2021-06-04|  2021-06-04|         172|         214|      N|                  null|\n",
      "|              B02765| 2021-06-03|  2021-06-03|         249|          90|      N|                B02765|\n",
      "|              B02764| 2021-06-02|  2021-06-02|          61|         225|      N|                B02764|\n",
      "|              B02510| 2021-06-04|  2021-06-04|         256|         158|      N|                  null|\n",
      "|              B02510| 2021-06-04|  2021-06-04|         177|         232|      N|                  null|\n",
      "|              B02872| 2021-06-01|  2021-06-01|          91|         189|      N|                B02872|\n",
      "|              B02510| 2021-06-01|  2021-06-01|         254|          69|      N|                  null|\n",
      "|              B02617| 2021-06-04|  2021-06-04|         211|         234|      N|                B02617|\n",
      "|              B02512| 2021-06-04|  2021-06-04|         144|         249|      N|                B02512|\n",
      "|              B02869| 2021-06-03|  2021-06-03|         158|         265|      N|                B02869|\n",
      "|              B02510| 2021-06-04|  2021-06-04|         165|         178|      N|                  null|\n",
      "|              B02872| 2021-06-04|  2021-06-04|         198|          55|      N|                B02872|\n",
      "|              B02764| 2021-06-04|  2021-06-04|         230|          43|      N|                B02764|\n",
      "+--------------------+-----------+------------+------------+------------+-------+----------------------+\n",
      "only showing top 20 rows\n",
      "\n"
     ]
    }
   ],
   "source": [
    "df_3.show()"
   ]
  },
  {
   "cell_type": "markdown",
   "id": "7d82f573",
   "metadata": {},
   "source": [
    "## Question 3"
   ]
  },
  {
   "cell_type": "code",
   "execution_count": 99,
   "id": "0d544df8",
   "metadata": {},
   "outputs": [
    {
     "name": "stdout",
     "output_type": "stream",
     "text": [
      "+-----------+------+\n",
      "|pickup_date| count|\n",
      "+-----------+------+\n",
      "| 2021-06-15|452470|\n",
      "+-----------+------+\n",
      "\n"
     ]
    }
   ],
   "source": [
    "df_3.where(df_3.pickup_date == '2021-06-15').groupBy('pickup_date').count().show()\n"
   ]
  },
  {
   "cell_type": "markdown",
   "id": "b5a2300a",
   "metadata": {},
   "source": [
    "## Question 4"
   ]
  },
  {
   "cell_type": "code",
   "execution_count": 133,
   "id": "5e4a4590",
   "metadata": {},
   "outputs": [
    {
     "name": "stdout",
     "output_type": "stream",
     "text": [
      "+-------------------+-------------------+----------------+\n",
      "|   dropoff_datetime|    pickup_datetime|longest_trip_hrs|\n",
      "+-------------------+-------------------+----------------+\n",
      "|2021-06-28 08:48:25|2021-06-25 13:55:41|          66.879|\n",
      "+-------------------+-------------------+----------------+\n",
      "\n"
     ]
    }
   ],
   "source": [
    "df_4 = df.select(\n",
    "    F.col(\"dropoff_datetime\"),F.col(\"pickup_datetime\")) \\\n",
    "    .withColumn(\"longest_trip_hrs\",(F.col(\"dropoff_datetime\").cast(\"long\") - F.col(\"pickup_datetime\").cast(\"long\"))/3600)\\\n",
    "    .withColumn(\"longest_trip_hrs\",F.round(\"longest_trip_hrs\",3)) \\\n",
    "    .orderBy(\"longest_trip_hrs\", ascending=False) \\\n",
    "    .limit(1) \\\n",
    "    .show()"
   ]
  },
  {
   "cell_type": "markdown",
   "id": "8c1865e8",
   "metadata": {},
   "source": [
    "## Question 6"
   ]
  },
  {
   "cell_type": "code",
   "execution_count": 141,
   "id": "74b4e5f1",
   "metadata": {},
   "outputs": [],
   "source": [
    "df_zones = spark.read.parquet('zones/')"
   ]
  },
  {
   "cell_type": "code",
   "execution_count": 144,
   "id": "806b8fc4",
   "metadata": {},
   "outputs": [
    {
     "name": "stdout",
     "output_type": "stream",
     "text": [
      "+----------+-------------+--------------------+------------+\n",
      "|LocationID|      Borough|                Zone|service_zone|\n",
      "+----------+-------------+--------------------+------------+\n",
      "|         1|          EWR|      Newark Airport|         EWR|\n",
      "|         2|       Queens|         Jamaica Bay|   Boro Zone|\n",
      "|         3|        Bronx|Allerton/Pelham G...|   Boro Zone|\n",
      "|         4|    Manhattan|       Alphabet City| Yellow Zone|\n",
      "|         5|Staten Island|       Arden Heights|   Boro Zone|\n",
      "|         6|Staten Island|Arrochar/Fort Wad...|   Boro Zone|\n",
      "|         7|       Queens|             Astoria|   Boro Zone|\n",
      "|         8|       Queens|        Astoria Park|   Boro Zone|\n",
      "|         9|       Queens|          Auburndale|   Boro Zone|\n",
      "|        10|       Queens|        Baisley Park|   Boro Zone|\n",
      "|        11|     Brooklyn|          Bath Beach|   Boro Zone|\n",
      "|        12|    Manhattan|        Battery Park| Yellow Zone|\n",
      "|        13|    Manhattan|   Battery Park City| Yellow Zone|\n",
      "|        14|     Brooklyn|           Bay Ridge|   Boro Zone|\n",
      "|        15|       Queens|Bay Terrace/Fort ...|   Boro Zone|\n",
      "|        16|       Queens|             Bayside|   Boro Zone|\n",
      "|        17|     Brooklyn|             Bedford|   Boro Zone|\n",
      "|        18|        Bronx|        Bedford Park|   Boro Zone|\n",
      "|        19|       Queens|           Bellerose|   Boro Zone|\n",
      "|        20|        Bronx|             Belmont|   Boro Zone|\n",
      "+----------+-------------+--------------------+------------+\n",
      "only showing top 20 rows\n",
      "\n"
     ]
    }
   ],
   "source": [
    "df_zones.show()"
   ]
  },
  {
   "cell_type": "code",
   "execution_count": 150,
   "id": "ee9b1502",
   "metadata": {},
   "outputs": [],
   "source": [
    "df_6 = df.join(df_zones, df_zones.LocationID == df.PULocationID)"
   ]
  },
  {
   "cell_type": "code",
   "execution_count": 151,
   "id": "63145dfe",
   "metadata": {},
   "outputs": [
    {
     "name": "stdout",
     "output_type": "stream",
     "text": [
      "+-------------------+------+\n",
      "|               Zone| count|\n",
      "+-------------------+------+\n",
      "|Crown Heights North|231279|\n",
      "+-------------------+------+\n",
      "\n"
     ]
    }
   ],
   "source": [
    "df_6.groupBy(\"Zone\").count().orderBy(\"count\", ascending=False).limit(1).show()"
   ]
  },
  {
   "cell_type": "code",
   "execution_count": null,
   "id": "1ef57ee5",
   "metadata": {},
   "outputs": [],
   "source": []
  }
 ],
 "metadata": {
  "kernelspec": {
   "display_name": "Python 3 (ipykernel)",
   "language": "python",
   "name": "python3"
  },
  "language_info": {
   "codemirror_mode": {
    "name": "ipython",
    "version": 3
   },
   "file_extension": ".py",
   "mimetype": "text/x-python",
   "name": "python",
   "nbconvert_exporter": "python",
   "pygments_lexer": "ipython3",
   "version": "3.9.15"
  }
 },
 "nbformat": 4,
 "nbformat_minor": 5
}
